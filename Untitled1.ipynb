{
 "cells": [
  {
   "cell_type": "code",
   "execution_count": 1,
   "metadata": {},
   "outputs": [
    {
     "name": "stdout",
     "output_type": "stream",
     "text": [
      "32\n",
      "96\n"
     ]
    },
    {
     "data": {
      "image/png": "[encoded data removed]",
      "text/plain": [
       "<Figure size 432x288 with 1 Axes>"
      ]
     },
     "metadata": {
      "needs_background": "light"
     },
     "output_type": "display_data"
    }
   ],
   "source": [
    "  # Single pixel imaging in python\n",
    "\n",
    "from matplotlib import pyplot as plt\n",
    "import numpy as np\n",
    "import cv2\n",
    "import time\n",
    "from PIL import Image, ImageOps\n",
    "from scipy.linalg import hadamard\n",
    "\n",
    "# Read in and resize image\n",
    "sz = 8 #Size of image to use (must be n^2 for Hadamard)\n",
    "path = \"unnamed.jpg\"\n",
    "raw_img = cv2.imread(path)\n",
    "gray_img = cv2.cvtColor(raw_img, cv2.COLOR_BGR2GRAY)\n",
    "gray_img = cv2.resize(gray_img, (96,32))                   # image is 96 x 32\n",
    "\n",
    "# Convert to number array\n",
    "obj = np.array(gray_img)\n",
    "print(len(obj))    # 3 rows in your example\n",
    "print(len(obj[0])) # 2 columns in your example\n",
    "\n",
    "imsize = 96*32\n",
    "\n",
    "# Make measurements\n",
    "##obj_Vector = np.reshape(obj, (1,imsize)) #Reshape to a vector to make maths easier\n",
    "I = np.identity(imsize)\n",
    "H = hadamard(sz**2)\n",
    "#m = np.zeros((sz**2,1))\n",
    "m = np.zeros((imsize,1))\n",
    "\n",
    "PatternSet  =  I; # Chose H or I here.\n",
    "\n",
    "# Measure for each pattern\n",
    "for i in range(0,imsize):\n",
    "    samplingVector = PatternSet[i,:]                       # row index of pattern matrix and all columns - choosing each row from iden matrix\n",
    "    samplingPattern = np.reshape(samplingVector,(32,96))   # reshaping to image size, for each i the 1 moves along the rows of the matrices - reshapes each row of iden matrix to sz x sz\n",
    "    #plt.imshow(samplingPattern)                           # shows the rasterscan in action, each coord being moved thru\n",
    "    #plt.show()\n",
    "    #time.sleep(0.005)\n",
    "    m[i] = np.sum(samplingPattern * obj)                   # taking measurements, sum of patterns*image, there's a pattern for each zero in the zero array m - puts obj as a column vector basically\n",
    "    \n",
    "\n",
    "# Reconstruct Image\n",
    "recon = np.matmul(PatternSet,m)                    \n",
    "recon = np.reshape(recon, (32,96))\n",
    "fig = plt.imshow(recon) "
   ]
  },
  {
   "cell_type": "code",
   "execution_count": 2,
   "metadata": {},
   "outputs": [
    {
     "name": "stdout",
     "output_type": "stream",
     "text": [
      "32\n",
      "96\n"
     ]
    }
   ],
   "source": [
    "sz = 8 #Size of image to use (must be n^2 for Hadamard)\n",
    "path = \"bb3.jpg\"\n",
    "raw_img = cv2.imread(path)\n",
    "gray_img = cv2.cvtColor(raw_img, cv2.COLOR_BGR2GRAY)\n",
    "gray_img = cv2.resize(gray_img, (96,32))                   # image is 96 x 32\n",
    "\n",
    "# Convert to number array\n",
    "obj = np.array(gray_img)\n",
    "print(len(obj))    # 3 rows in your example\n",
    "print(len(obj[0])) # 2 columns in your example"
   ]
  },
  {
   "cell_type": "code",
   "execution_count": 3,
   "metadata": {},
   "outputs": [
    {
     "data": {
      "image/png": "[encoded data removed]",
      "text/plain": [
       "<Figure size 432x288 with 1 Axes>"
      ]
     },
     "metadata": {
      "needs_background": "light"
     },
     "output_type": "display_data"
    }
   ],
   "source": [
    "# Read in and resize image\n",
    "sz = 64 #Size of image to use (must be n^2 for Hadamard)\n",
    "path = \"bb3.jpg\"\n",
    "raw_img = cv2.imread(path)\n",
    "gray_img = cv2.cvtColor(raw_img, cv2.COLOR_BGR2GRAY)\n",
    "gray_img = cv2.resize(gray_img, (sz,sz)) \n",
    "\n",
    "# Convert to number array\n",
    "obj = np.array(gray_img)\n",
    "\n",
    "# Make measurements\n",
    "##obj_Vector = np.reshape(obj, (1,sz**2)) #Reshape to a vector to make maths easier\n",
    "I = np.identity(sz**2)\n",
    "H = hadamard(sz**2)\n",
    "m = np.zeros((sz**2,1))\n",
    "\n",
    "PatternSet  =  I; # Chose H or I here.\n",
    "\n",
    "# Measure for each pattern\n",
    "for i in range(0,sz**2):\n",
    "    samplingVector = PatternSet[i,:]                       # row index of pattern matrix and all columns - choosing each row from iden matrix\n",
    "    samplingPattern = np.reshape(samplingVector,(sz,sz))   # reshaping to image size, for each i the 1 moves along the rows of the matrices - reshapes each row of iden matrix to sz x sz\n",
    "    #plt.imshow(samplingPattern)                           # shows the rasterscan in action, each coord being moved thru\n",
    "    #plt.show()\n",
    "    #time.sleep(0.005)\n",
    "    m[i] = np.sum(samplingPattern * obj)                   # taking measurements, sum of patterns*image, there's a pattern for each zero in the zero array m - puts obj as a column vector basically\n",
    "    #print(m)\n",
    "\n",
    "# Reconstruct Image\n",
    "recon = np.matmul(PatternSet,m)                    \n",
    "recon = np.reshape(recon, (sz,sz))\n",
    "fig = plt.imshow(recon) "
   ]
  },
  {
   "cell_type": "markdown",
   "metadata": {},
   "source": [
    "# multiple images\n",
    "\n",
    "Now i am going to load in a series of 7 images of a ball bouncing, this mimicks a moving object. I want to produce a rasterscan of the animation. \n",
    "its liek i want to process the first bit of the first image and then introduce the second image, so could split the images into rasterscan sections and link to make an list, and then rasterscan that image.\n",
    "\n",
    "First I am going to process each image as before."
   ]
  },
  {
   "cell_type": "code",
   "execution_count": 4,
   "metadata": {},
   "outputs": [],
   "source": [
    "\n",
    "\n",
    "sz = 64\n",
    "bb = [\"bb1.jpg\",\"bb2.jpg\",\"bb3.jpg\",\"bb4.jpg\",\"bb5.jpg\",\"bb6.jpg\",\"bb7.jpg\"]\n",
    "\n",
    "I = np.identity(sz**2)\n",
    "H = hadamard(sz**2)\n",
    "m = np.zeros((sz**2,1))\n",
    "\n",
    "recons = []\n",
    "objs = []\n",
    "for i in bb:\n",
    "    raw_img = cv2.imread(i)\n",
    "    gray_img = cv2.cvtColor(raw_img, cv2.COLOR_BGR2GRAY)\n",
    "    gray_img = cv2.resize(gray_img, (sz,sz)) \n",
    "\n",
    "    # Convert to number array\n",
    "    obj = np.array(gray_img)\n",
    "    objs.append(obj)\n",
    "\n",
    "    # Make measurements\n",
    "    PatternSet  =  I; # Chose H or I here.\n",
    "\n",
    "    # Measure for each pattern\n",
    "    for i in range(0,sz**2):\n",
    "        samplingVector = PatternSet[i,:]                       # row index of pattern matrix and all columns - choosing each row from iden matrix\n",
    "        samplingPattern = np.reshape(samplingVector,(sz,sz))   # reshaping to image size, for each i the 1 moves along the rows of the matrices - reshapes each row of iden matrix to sz x sz\n",
    "        #plt.imshow(samplingPattern)                           # shows the rasterscan in action, each coord being moved thru\n",
    "        #plt.show()\n",
    "        #time.sleep(0.005)\n",
    "        m[i] = np.sum(samplingPattern * obj)                   # taking measurements, sum of patterns*image, there's a pattern for each zero in the zero array m - puts obj as a column vector basically\n",
    "        #print(m)\n",
    "\n",
    "    # Reconstruct Image\n",
    "    recon = np.matmul(PatternSet,m)                    \n",
    "    recon = np.reshape(recon, (sz,sz))\n",
    "    recons.append(recon)\n",
    "   # fig = plt.imshow(recon) \n",
    "\n",
    "#for i in recons:\n",
    "  #  plt.imshow(i)\n",
    " #   time.sleep(0.005)\n",
    "    \n",
    "#plt.imshow(recons[4])"
   ]
  },
  {
   "cell_type": "code",
   "execution_count": 5,
   "metadata": {},
   "outputs": [
    {
     "data": {
      "text/plain": [
       "(7, 1, 4096)"
      ]
     },
     "execution_count": 5,
     "metadata": {},
     "output_type": "execute_result"
    }
   ],
   "source": [
    "# Now want to split each obj into sections --- 585 entries per image, then one with 586\n",
    "\n",
    "# first turn each obj into a long array of 1d\n",
    "vecs = []\n",
    "for i in objs:\n",
    "    obj_Vector = np.reshape(i, (1,sz**2))       # now each obj is a 1d array with 4096 entries\n",
    "    vecs.append(obj_Vector)\n",
    "\n",
    "# now i want to split up each array into parts of 586\n",
    "def chunks(l, n):                                    # defining a function, l is the list to split up, n is number of entries wanted in each new chunk\n",
    "    n = max(1, n)\n",
    "    return [l[i:i+n] for i in range(0, len(l), n)]\n",
    "\n",
    "allsections = []\n",
    "for i in vecs:\n",
    "    splitup = chunks(i,7)\n",
    "    allsections.append(splitup)\n",
    "    \n",
    "np.shape(allsections)\n",
    "\n",
    "allchunks = []    \n",
    "for x in vecs:\n",
    "    chunks = np.array_split(x,7)\n",
    "    allchunks.append(chunks)\n",
    "\n",
    "np.shape(vecs)"
   ]
  },
  {
   "cell_type": "code",
   "execution_count": 6,
   "metadata": {},
   "outputs": [
    {
     "data": {
      "text/plain": [
       "4096"
      ]
     },
     "execution_count": 6,
     "metadata": {},
     "output_type": "execute_result"
    }
   ],
   "source": [
    "sec1 = vecs[0][0][0:565]\n",
    "sec2 = vecs[1][0][565:565*2]\n",
    "sec3 = vecs[2][0][565*2:565*3]\n",
    "sec4 = vecs[3][0][565*3:565*4]\n",
    "sec5 = vecs[4][0][565*4:565*5]\n",
    "sec6 = vecs[5][0][565*5:565*6]\n",
    "sec7 = vecs[6][0][565*6:4096]\n",
    "\n",
    "jointimg = np.concatenate((sec1,sec2,sec3,sec4,sec5,sec6,sec7))\n",
    "len(jointimg)"
   ]
  },
  {
   "cell_type": "code",
   "execution_count": 7,
   "metadata": {},
   "outputs": [
    {
     "data": {
      "image/png": "[encoded data removed]",
      "text/plain": [
       "<Figure size 432x288 with 1 Axes>"
      ]
     },
     "metadata": {
      "needs_background": "light"
     },
     "output_type": "display_data"
    }
   ],
   "source": [
    "# Make measurements\n",
    "obj = np.reshape(jointimg, (sz,sz)) #Reshape to a vector to make maths easier\n",
    "I = np.identity(sz**2)\n",
    "H = hadamard(sz**2)\n",
    "m = np.zeros((sz**2,1))\n",
    "\n",
    "PatternSet  =  I; # Chose H or I here.\n",
    "\n",
    "# Measure for each pattern\n",
    "for i in range(0,sz**2):\n",
    "    samplingVector = PatternSet[i,:]                       # row index of pattern matrix and all columns - choosing each row from iden matrix\n",
    "    samplingPattern = np.reshape(samplingVector,(sz,sz))   # reshaping to image size, for each i the 1 moves along the rows of the matrices - reshapes each row of iden matrix to sz x sz\n",
    "    #plt.imshow(samplingPattern)                           # shows the rasterscan in action, each coord being moved thru\n",
    "    #plt.show()\n",
    "    #time.sleep(0.005)\n",
    "    m[i] = np.sum(samplingPattern * obj)                   # taking measurements, sum of patterns*image, there's a pattern for each zero in the zero array m - puts obj as a column vector basically\n",
    "    #print(m)\n",
    "\n",
    "# Reconstruct Image\n",
    "recon = np.matmul(PatternSet,m)                    \n",
    "recon = np.reshape(recon, (sz,sz))\n",
    "fig = plt.imshow(recon) "
   ]
  },
  {
   "cell_type": "code",
   "execution_count": 10,
   "metadata": {},
   "outputs": [
    {
     "ename": "ValueError",
     "evalue": "cannot reshape array of size 4096 into shape (32,96)",
     "output_type": "error",
     "traceback": [
      "\u001b[0;31m---------------------------------------------------------------------------\u001b[0m",
      "\u001b[0;31mValueError\u001b[0m                                Traceback (most recent call last)",
      "\u001b[0;32m<ipython-input-10-a330cc78f3d9>\u001b[0m in \u001b[0;36m<module>\u001b[0;34m\u001b[0m\n\u001b[1;32m     43\u001b[0m \u001b[0;32mfor\u001b[0m \u001b[0mi\u001b[0m \u001b[0;32min\u001b[0m \u001b[0mrange\u001b[0m\u001b[0;34m(\u001b[0m\u001b[0;36m0\u001b[0m\u001b[0;34m,\u001b[0m\u001b[0mimsize\u001b[0m\u001b[0;34m)\u001b[0m\u001b[0;34m:\u001b[0m\u001b[0;34m\u001b[0m\u001b[0;34m\u001b[0m\u001b[0m\n\u001b[1;32m     44\u001b[0m     \u001b[0msamplingVector\u001b[0m \u001b[0;34m=\u001b[0m \u001b[0mPatternSet_br\u001b[0m\u001b[0;34m[\u001b[0m\u001b[0mi\u001b[0m\u001b[0;34m,\u001b[0m\u001b[0;34m:\u001b[0m\u001b[0;34m]\u001b[0m                       \u001b[0;31m# row index of pattern matrix and all columns - choosing each row from iden matrix\u001b[0m\u001b[0;34m\u001b[0m\u001b[0;34m\u001b[0m\u001b[0m\n\u001b[0;32m---> 45\u001b[0;31m     \u001b[0msamplingPattern\u001b[0m \u001b[0;34m=\u001b[0m \u001b[0mnp\u001b[0m\u001b[0;34m.\u001b[0m\u001b[0mreshape\u001b[0m\u001b[0;34m(\u001b[0m\u001b[0msamplingVector\u001b[0m\u001b[0;34m,\u001b[0m\u001b[0;34m(\u001b[0m\u001b[0;36m32\u001b[0m\u001b[0;34m,\u001b[0m\u001b[0;36m96\u001b[0m\u001b[0;34m)\u001b[0m\u001b[0;34m)\u001b[0m   \u001b[0;31m# reshaping to image size, for each i the 1 moves along the rows of the matrices - reshapes each row of iden matrix to sz x sz\u001b[0m\u001b[0;34m\u001b[0m\u001b[0;34m\u001b[0m\u001b[0m\n\u001b[0m\u001b[1;32m     46\u001b[0m     \u001b[0;31m#plt.imshow(samplingPattern)                           # shows the rasterscan in action, each coord being moved thru\u001b[0m\u001b[0;34m\u001b[0m\u001b[0;34m\u001b[0m\u001b[0;34m\u001b[0m\u001b[0m\n\u001b[1;32m     47\u001b[0m     \u001b[0;31m#plt.show()\u001b[0m\u001b[0;34m\u001b[0m\u001b[0;34m\u001b[0m\u001b[0;34m\u001b[0m\u001b[0m\n",
      "\u001b[0;32m<__array_function__ internals>\u001b[0m in \u001b[0;36mreshape\u001b[0;34m(*args, **kwargs)\u001b[0m\n",
      "\u001b[0;32m/local/environments/default/default-python/lib64/python3.8/site-packages/numpy/core/fromnumeric.py\u001b[0m in \u001b[0;36mreshape\u001b[0;34m(a, newshape, order)\u001b[0m\n\u001b[1;32m    297\u001b[0m            [5, 6]])\n\u001b[1;32m    298\u001b[0m     \"\"\"\n\u001b[0;32m--> 299\u001b[0;31m     \u001b[0;32mreturn\u001b[0m \u001b[0m_wrapfunc\u001b[0m\u001b[0;34m(\u001b[0m\u001b[0ma\u001b[0m\u001b[0;34m,\u001b[0m \u001b[0;34m'reshape'\u001b[0m\u001b[0;34m,\u001b[0m \u001b[0mnewshape\u001b[0m\u001b[0;34m,\u001b[0m \u001b[0morder\u001b[0m\u001b[0;34m=\u001b[0m\u001b[0morder\u001b[0m\u001b[0;34m)\u001b[0m\u001b[0;34m\u001b[0m\u001b[0;34m\u001b[0m\u001b[0m\n\u001b[0m\u001b[1;32m    300\u001b[0m \u001b[0;34m\u001b[0m\u001b[0m\n\u001b[1;32m    301\u001b[0m \u001b[0;34m\u001b[0m\u001b[0m\n",
      "\u001b[0;32m/local/environments/default/default-python/lib64/python3.8/site-packages/numpy/core/fromnumeric.py\u001b[0m in \u001b[0;36m_wrapfunc\u001b[0;34m(obj, method, *args, **kwds)\u001b[0m\n\u001b[1;32m     56\u001b[0m \u001b[0;34m\u001b[0m\u001b[0m\n\u001b[1;32m     57\u001b[0m     \u001b[0;32mtry\u001b[0m\u001b[0;34m:\u001b[0m\u001b[0;34m\u001b[0m\u001b[0;34m\u001b[0m\u001b[0m\n\u001b[0;32m---> 58\u001b[0;31m         \u001b[0;32mreturn\u001b[0m \u001b[0mbound\u001b[0m\u001b[0;34m(\u001b[0m\u001b[0;34m*\u001b[0m\u001b[0margs\u001b[0m\u001b[0;34m,\u001b[0m \u001b[0;34m**\u001b[0m\u001b[0mkwds\u001b[0m\u001b[0;34m)\u001b[0m\u001b[0;34m\u001b[0m\u001b[0;34m\u001b[0m\u001b[0m\n\u001b[0m\u001b[1;32m     59\u001b[0m     \u001b[0;32mexcept\u001b[0m \u001b[0mTypeError\u001b[0m\u001b[0;34m:\u001b[0m\u001b[0;34m\u001b[0m\u001b[0;34m\u001b[0m\u001b[0m\n\u001b[1;32m     60\u001b[0m         \u001b[0;31m# A TypeError occurs if the object does have such a method in its\u001b[0m\u001b[0;34m\u001b[0m\u001b[0;34m\u001b[0m\u001b[0;34m\u001b[0m\u001b[0m\n",
      "\u001b[0;31mValueError\u001b[0m: cannot reshape array of size 4096 into shape (32,96)"
     ]
    }
   ],
   "source": [
    "# now doing it again with a rolling ball\n",
    "br = [\"2.png\",\"3.png\",\"4.png\",\"5.png\",\"6.png\",\"7.png\",\"8.png\"]\n",
    "\n",
    "objs_br = []\n",
    "for i in br:\n",
    "    raw_img = cv2.imread(i)\n",
    "    gray_img = cv2.cvtColor(raw_img, cv2.COLOR_BGR2GRAY)\n",
    "    #gray_img = cv2.resize(gray_img, (sz,sz)) \n",
    "\n",
    "    # Convert to number array\n",
    "    obj = np.array(gray_img)\n",
    "    objs_br.append(obj)\n",
    "    \n",
    "imsize = 32*96\n",
    "\n",
    "# Now want to split each obj into sections --- 439 entries per image, then one with 438\n",
    "# first turn each obj into a long array of 1d\n",
    "vecs_br = []\n",
    "for i in objs_br:\n",
    "    obj_Vector = np.reshape(i, (1,imsize))       # now each obj is a 1d array with 4096 entries\n",
    "    vecs_br.append(obj_Vector)\n",
    "\n",
    "# now i want to split up each array into parts of 438    \n",
    "sec1_br = vecs_br[0][0][0:438]\n",
    "sec2_br = vecs_br[1][0][438:438*2]\n",
    "sec3_br = vecs_br[2][0][438*2:438*3]\n",
    "sec4_br = vecs_br[3][0][438*3:438*4]\n",
    "sec5_br = vecs_br[4][0][438*4:438*5]\n",
    "sec6_br = vecs_br[5][0][438*5:438*6]\n",
    "sec7_br = vecs_br[6][0][438*6:imsize]\n",
    "\n",
    "jointimg = np.concatenate((sec1_br,sec2_br,sec3_br,sec4_br,sec5_br,sec6_br,sec7_br))\n",
    "\n",
    "# Make measurements\n",
    "obj_br = np.reshape(jointimg, (32,96)) #Reshape to a vector to make maths easier\n",
    "I_br = np.identity(imsize)\n",
    "H = hadamard(sz**2)\n",
    "m_br = np.zeros((imsize,1))\n",
    "\n",
    "PatternSet_br  =  H; # Chose H or I here.\n",
    "\n",
    "# Measure for each pattern\n",
    "for i in range(0,imsize):\n",
    "    samplingVector = PatternSet_br[i,:]                       # row index of pattern matrix and all columns - choosing each row from iden matrix\n",
    "    samplingPattern = np.reshape(samplingVector,(32,96))   # reshaping to image size, for each i the 1 moves along the rows of the matrices - reshapes each row of iden matrix to sz x sz\n",
    "    #plt.imshow(samplingPattern)                           # shows the rasterscan in action, each coord being moved thru\n",
    "    #plt.show()\n",
    "    #time.sleep(0.005)\n",
    "    m_br[i] = np.sum(samplingPattern * obj_br)                   # taking measurements, sum of patterns*image, there's a pattern for each zero in the zero array m - puts obj as a column vector basically\n",
    "    #print(m)\n",
    "\n",
    "# Reconstruct Image\n",
    "recon_br = np.matmul(PatternSet_br,m_br)                    \n",
    "recon_br = np.reshape(recon_br, (32,96))\n",
    "plt.rcParams['figure.figsize'] = [18,10] # set the image size\n",
    "fig = plt.imshow(recon_br) "
   ]
  },
  {
   "cell_type": "code",
   "execution_count": null,
   "metadata": {},
   "outputs": [],
   "source": []
  }
 ],
 "metadata": {
  "kernelspec": {
   "display_name": "Default",
   "language": "python",
   "name": "python3"
  },
  "language_info": {
   "codemirror_mode": {
    "name": "ipython",
    "version": 3
   },
   "file_extension": ".py",
   "mimetype": "text/x-python",
   "name": "python",
   "nbconvert_exporter": "python",
   "pygments_lexer": "ipython3",
   "version": "3.8.0"
  }
 },
 "nbformat": 4,
 "nbformat_minor": 4
}
