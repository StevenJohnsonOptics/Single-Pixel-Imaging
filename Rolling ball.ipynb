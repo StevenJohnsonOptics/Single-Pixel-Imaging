{
 "cells": [
  {
   "cell_type": "code",
   "execution_count": 2,
   "metadata": {},
   "outputs": [
    {
     "ename": "NameError",
     "evalue": "name 'sz' is not defined",
     "output_type": "error",
     "traceback": [
      "\u001b[0;31m---------------------------------------------------------------------------\u001b[0m",
      "\u001b[0;31mNameError\u001b[0m                                 Traceback (most recent call last)",
      "\u001b[0;32m<ipython-input-2-91fc4e15ee4c>\u001b[0m in \u001b[0;36m<module>\u001b[0;34m\u001b[0m\n\u001b[1;32m     42\u001b[0m \u001b[0mobj_br\u001b[0m \u001b[0;34m=\u001b[0m \u001b[0mnp\u001b[0m\u001b[0;34m.\u001b[0m\u001b[0mreshape\u001b[0m\u001b[0;34m(\u001b[0m\u001b[0mjointimg\u001b[0m\u001b[0;34m,\u001b[0m \u001b[0;34m(\u001b[0m\u001b[0;36m32\u001b[0m\u001b[0;34m,\u001b[0m\u001b[0;36m96\u001b[0m\u001b[0;34m)\u001b[0m\u001b[0;34m)\u001b[0m \u001b[0;31m#Reshape to a vector to make maths easier\u001b[0m\u001b[0;34m\u001b[0m\u001b[0;34m\u001b[0m\u001b[0m\n\u001b[1;32m     43\u001b[0m \u001b[0mI_br\u001b[0m \u001b[0;34m=\u001b[0m \u001b[0mnp\u001b[0m\u001b[0;34m.\u001b[0m\u001b[0midentity\u001b[0m\u001b[0;34m(\u001b[0m\u001b[0mimsize\u001b[0m\u001b[0;34m)\u001b[0m\u001b[0;34m\u001b[0m\u001b[0;34m\u001b[0m\u001b[0m\n\u001b[0;32m---> 44\u001b[0;31m \u001b[0mH\u001b[0m \u001b[0;34m=\u001b[0m \u001b[0mhadamard\u001b[0m\u001b[0;34m(\u001b[0m\u001b[0msz\u001b[0m\u001b[0;34m**\u001b[0m\u001b[0;36m2\u001b[0m\u001b[0;34m)\u001b[0m\u001b[0;34m\u001b[0m\u001b[0;34m\u001b[0m\u001b[0m\n\u001b[0m\u001b[1;32m     45\u001b[0m \u001b[0mm_br\u001b[0m \u001b[0;34m=\u001b[0m \u001b[0mnp\u001b[0m\u001b[0;34m.\u001b[0m\u001b[0mzeros\u001b[0m\u001b[0;34m(\u001b[0m\u001b[0;34m(\u001b[0m\u001b[0mimsize\u001b[0m\u001b[0;34m,\u001b[0m\u001b[0;36m1\u001b[0m\u001b[0;34m)\u001b[0m\u001b[0;34m)\u001b[0m\u001b[0;34m\u001b[0m\u001b[0;34m\u001b[0m\u001b[0m\n\u001b[1;32m     46\u001b[0m \u001b[0;34m\u001b[0m\u001b[0m\n",
      "\u001b[0;31mNameError\u001b[0m: name 'sz' is not defined"
     ]
    }
   ],
   "source": [
    "from matplotlib import pyplot as plt\n",
    "import numpy as np\n",
    "import cv2\n",
    "import time\n",
    "from PIL import Image, ImageOps\n",
    "from scipy.linalg import hadamard\n",
    "\n",
    "\n",
    "\n",
    "br = [\"2.png\",\"3.png\",\"4.png\",\"5.png\",\"6.png\",\"7.png\",\"8.png\"]\n",
    "\n",
    "objs_br = []\n",
    "for i in br:\n",
    "    raw_img = cv2.imread(i)\n",
    "    gray_img = cv2.cvtColor(raw_img, cv2.COLOR_BGR2GRAY)\n",
    "    #gray_img = cv2.resize(gray_img, (sz,sz)) \n",
    "\n",
    "    # Convert to number array\n",
    "    obj = np.array(gray_img)\n",
    "    objs_br.append(obj)\n",
    "    \n",
    "imsize = 32*96\n",
    "\n",
    "# Now want to split each obj into sections --- 439 entries per image, then one with 438\n",
    "# first turn each obj into a long array of 1d\n",
    "vecs_br = []\n",
    "for i in objs_br:\n",
    "    obj_Vector = np.reshape(i, (1,imsize))       # now each obj is a 1d array with 4096 entries\n",
    "    vecs_br.append(obj_Vector)\n",
    "\n",
    "# now i want to split up each array into parts of 438    \n",
    "sec1_br = vecs_br[0][0][0:438]\n",
    "sec2_br = vecs_br[1][0][438:438*2]\n",
    "sec3_br = vecs_br[2][0][438*2:438*3]\n",
    "sec4_br = vecs_br[3][0][438*3:438*4]\n",
    "sec5_br = vecs_br[4][0][438*4:438*5]\n",
    "sec6_br = vecs_br[5][0][438*5:438*6]\n",
    "sec7_br = vecs_br[6][0][438*6:imsize]\n",
    "\n",
    "jointimg = np.concatenate((sec1_br,sec2_br,sec3_br,sec4_br,sec5_br,sec6_br,sec7_br))\n",
    "\n",
    "# Make measurements\n",
    "obj_br = np.reshape(jointimg, (32,96)) #Reshape to a vector to make maths easier\n",
    "I_br = np.identity(imsize)\n",
    "H = hadamard(sz**2)\n",
    "m_br = np.zeros((imsize,1))\n",
    "\n",
    "PatternSet_br  =  H; # Chose H or I here.\n",
    "\n",
    "# Measure for each pattern\n",
    "for i in range(0,imsize):\n",
    "    samplingVector = PatternSet_br[i,:]                       # row index of pattern matrix and all columns - choosing each row from iden matrix\n",
    "    samplingPattern = np.reshape(samplingVector,(32,96))   # reshaping to image size, for each i the 1 moves along the rows of the matrices - reshapes each row of iden matrix to sz x sz\n",
    "    #plt.imshow(samplingPattern)                           # shows the rasterscan in action, each coord being moved thru\n",
    "    #plt.show()\n",
    "    #time.sleep(0.005)\n",
    "    m_br[i] = np.sum(samplingPattern * obj_br)                   # taking measurements, sum of patterns*image, there's a pattern for each zero in the zero array m - puts obj as a column vector basically\n",
    "    #print(m)\n",
    "\n",
    "# Reconstruct Image\n",
    "recon_br = np.matmul(PatternSet_br,m_br)                    \n",
    "recon_br = np.reshape(recon_br, (32,96))\n",
    "plt.rcParams['figure.figsize'] = [18,10] # set the image size\n",
    "fig = plt.imshow(recon_br) "
   ]
  },
  {
   "cell_type": "code",
   "execution_count": null,
   "metadata": {},
   "outputs": [],
   "source": []
  }
 ],
 "metadata": {
  "kernelspec": {
   "display_name": "Default",
   "language": "python",
   "name": "python3"
  },
  "language_info": {
   "codemirror_mode": {
    "name": "ipython",
    "version": 3
   },
   "file_extension": ".py",
   "mimetype": "text/x-python",
   "name": "python",
   "nbconvert_exporter": "python",
   "pygments_lexer": "ipython3",
   "version": "3.8.0"
  }
 },
 "nbformat": 4,
 "nbformat_minor": 4
}
